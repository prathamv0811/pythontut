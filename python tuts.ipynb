{
 "cells": [
  {
   "cell_type": "markdown",
   "id": "4ea50e20-aad8-4739-991c-b7e0d1b7a460",
   "metadata": {},
   "source": [
    "# Python tutorial for everyone \n",
    "_Reference material_:  **_PYTHON DISTILLED by David M Beazley_**|"
   ]
  },
  {
   "cell_type": "markdown",
   "id": "018a54f8-dba5-4938-9e7c-3b01ce31f8df",
   "metadata": {},
   "source": [
    "   # Arithmetic Operators "
   ]
  },
  {
   "cell_type": "markdown",
   "id": "3607d20e-ce3c-400d-aa89-2e47725574fd",
   "metadata": {},
   "source": [
    "                                    \n",
    "| Operation | Description       |\n",
    "|-----------|-------------------|\n",
    "| $X+Y$     | Additon           |\n",
    "| $X-Y$     | Subtraction       |\n",
    "| $X*Y$     | Multiplication    |\n",
    "| $X/Y$     | Division          |\n",
    "| $X//Y$    | Roundoff division |\n",
    "| $X**Y$    | Power ($X^Y$)     |\n",
    "| $X%Y$     | Modulus           |\n",
    "| $-$       | Minus             |\n",
    "| $+$       | Plus              |"
   ]
  },
  {
   "cell_type": "code",
   "execution_count": null,
   "id": "193238af-0506-4d9e-8750-33491c15b7f0",
   "metadata": {},
   "outputs": [],
   "source": []
  }
 ],
 "metadata": {
  "kernelspec": {
   "display_name": "Python 3 (ipykernel)",
   "language": "python",
   "name": "python3"
  },
  "language_info": {
   "codemirror_mode": {
    "name": "ipython",
    "version": 3
   },
   "file_extension": ".py",
   "mimetype": "text/x-python",
   "name": "python",
   "nbconvert_exporter": "python",
   "pygments_lexer": "ipython3",
   "version": "3.12.4"
  },
  "widgets": {
   "application/vnd.jupyter.widget-state+json": {
    "state": {},
    "version_major": 2,
    "version_minor": 0
   }
  }
 },
 "nbformat": 4,
 "nbformat_minor": 5
}
