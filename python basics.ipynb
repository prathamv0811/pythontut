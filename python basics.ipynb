{
 "cells": [
  {
   "cell_type": "markdown",
   "id": "4ea50e20-aad8-4739-991c-b7e0d1b7a460",
   "metadata": {},
   "source": [
    "# Python tutorial for everyone \n",
    "_Reference material_:  **_PYTHON DISTILLED by David M Beazley_**|"
   ]
  },
  {
   "cell_type": "markdown",
   "id": "38a67e2c-f86e-45b6-9cfd-e67813bd43e3",
   "metadata": {},
   "source": [
    "# Defining and writing of variables "
   ]
  },
  {
   "cell_type": "markdown",
   "id": "018a54f8-dba5-4938-9e7c-3b01ce31f8df",
   "metadata": {},
   "source": [
    "### Writing variables in Python follows specific rules and conventions to ensure clarity and maintainability in your code. Here are the key rules and best practices for defining variables in Python:\n",
    "\n",
    "# Rules for Variable Names\n",
    "  **Variable names must start with a letter or an underscore (_):** <br>\n",
    "  **Valid: name, _name**<br>\n",
    "  **Invalid: 1name, -name**<br>\n",
    "  **The remainder of your variable name may consist of letters, numbers, and underscores:**<br>\n",
    "  **Valid: name1, first_name, name_1**<br>\n",
    "  **Invalid: name@, first-name**<br>\n",
    "  **Variable names are case-sensitive:**<br>\n",
    "  **Name, name, and NAME are three different variables.**<br>"
   ]
  },
  {
   "cell_type": "markdown",
   "id": "20422121-5226-44fc-a03d-313d50602552",
   "metadata": {},
   "source": [
    "#### Check list of keywords "
   ]
  },
  {
   "cell_type": "code",
   "execution_count": 14,
   "id": "11813f29-0b8d-4538-816b-289a5110158d",
   "metadata": {},
   "outputs": [
    {
     "name": "stdout",
     "output_type": "stream",
     "text": [
      "['False', 'None', 'True', 'and', 'as', 'assert', 'async', 'await', 'break', 'class', 'continue', 'def', 'del', 'elif', 'else', 'except', 'finally', 'for', 'from', 'global', 'if', 'import', 'in', 'is', 'lambda', 'nonlocal', 'not', 'or', 'pass', 'raise', 'return', 'try', 'while', 'with', 'yield']\n"
     ]
    }
   ],
   "source": [
    "# you can check list of keywords with the code \n",
    "import keyword\n",
    "print(keyword.kwlist)\n"
   ]
  },
  {
   "cell_type": "markdown",
   "id": "228b2e6c-efde-44e2-a50d-565b5bd7ab07",
   "metadata": {},
   "source": [
    "   # Arithmetic Operators "
   ]
  },
  {
   "cell_type": "markdown",
   "id": "3607d20e-ce3c-400d-aa89-2e47725574fd",
   "metadata": {},
   "source": [
    "                                    \n",
    "| Operation | Description       |\n",
    "|-----------|-------------------|\n",
    "| $X+Y$     | Additon           |\n",
    "| $X-Y$     | Subtraction       |\n",
    "| $X*Y$     | Multiplication    |\n",
    "| $X/Y$     | Division          |\n",
    "| $X//Y$    | Roundoff division |\n",
    "| $X**Y$    | Power ($X^Y$)     |\n",
    "| $X%Y$     | Modulus           |\n",
    "| $-$       | Minus             |\n",
    "| $+$       | Plus              |"
   ]
  },
  {
   "cell_type": "markdown",
   "id": "78a6ad1e-8ae5-42ed-a29f-1969ad112a52",
   "metadata": {},
   "source": [
    "# Common Arithmetic Operator \n",
    "| Function   |    Descritpion    |\n",
    "|------------|-------------------|\n",
    "| $abs(x)$   |   Absolute values |\n",
    "|$divmod(x,y)$|  Returns(x//y,x%y)|\n",
    "|$pow(x,y)$  |   Returns($x^y$)  |\n",
    "|$round(x,[n])$|  Rounds of nearest|"
   ]
  },
  {
   "cell_type": "markdown",
   "id": "9faabc17-f4dc-4f11-bea5-3a1d0cea1b18",
   "metadata": {},
   "source": [
    "# Comparision Operators \n",
    "\n",
    "|Operation | Description|\n",
    "|----------|------------|\n",
    "|  x == y  |  Equal to  |\n",
    "| x != y   | Not equal to|\n",
    "|x < y |Less than|\n",
    "|x > y |Greater than|\n",
    "|x >= y |Greater than or equal to|\n",
    "|x <= y |Less than or equal to|"
   ]
  },
  {
   "cell_type": "markdown",
   "id": "b7d959fd-2443-4600-a308-50918292cc18",
   "metadata": {},
   "source": [
    "# Logical Operators \n",
    "|Operator | Description|\n",
    "|---------|------------|\n",
    "|x or y |If x is false, return y; otherwise, return x.|\n",
    "|x and y |If x is false, return x; otherwise, return y.|\n",
    "|not x |If x is false, return True; otherwise, return False.|\n"
   ]
  },
  {
   "cell_type": "markdown",
   "id": "bc98b6e5-8565-477e-9e12-b1b9f845ef04",
   "metadata": {},
   "source": [
    "#### Note :\n",
    "**_Python does not have increament or decreamnet operator like c/c++_**"
   ]
  },
  {
   "cell_type": "markdown",
   "id": "3b4a54ab-4c59-4e4b-929b-1eb3f58fec96",
   "metadata": {},
   "source": [
    "## conditonal statements  with example codes :\n",
    "**_if condition_** **,** **_else and elif_** are the conditional statements\n"
   ]
  },
  {
   "cell_type": "code",
   "execution_count": 3,
   "id": "4f1a89d9-b88d-4b34-ac38-3a4b5d722d02",
   "metadata": {},
   "outputs": [
    {
     "name": "stdin",
     "output_type": "stream",
     "text": [
      "enter the name of the person: manu \n",
      "enter the age of person : 69\n"
     ]
    },
    {
     "name": "stdout",
     "output_type": "stream",
     "text": [
      "the person is eligible to vote \n"
     ]
    }
   ],
   "source": [
    "# lets write an example code using if else statements \n",
    "#the code is to check whether the person is elegible to vote or not \n",
    "# the criteria for voting is that the person must be of age greater or equal to 18 in india \n",
    "\n",
    "# lets create a variable called name to store age and name of the person \n",
    "Name=input(\"enter the name of the person:\")\n",
    "Age=int(input(\"enter the age of person :\"))\n",
    "\n",
    "# now we need to use if and else for defining the conditons \n",
    "if(Age>=18):\n",
    "    print(\"the person is eligible to vote \")\n",
    "else:\n",
    "    print(\"the person is not eligible to vote he/she is underage\")\n",
    "    \n",
    "# you can run the code by pressing  shift+enter and look for the output \n"
   ]
  },
  {
   "cell_type": "markdown",
   "id": "3159c9a3-506f-4521-8044-dfc08c87a056",
   "metadata": {},
   "source": [
    "### Now lets use simple comparision operator to compare two numbers "
   ]
  },
  {
   "cell_type": "code",
   "execution_count": 6,
   "id": "84e937e4-adfa-425b-b03f-34239517b88e",
   "metadata": {},
   "outputs": [
    {
     "name": "stdin",
     "output_type": "stream",
     "text": [
      "enter value for a  9\n",
      "enter value for b  6\n"
     ]
    },
    {
     "name": "stdout",
     "output_type": "stream",
     "text": [
      "yes, a is bigger than b\n"
     ]
    }
   ],
   "source": [
    "# comparison of two numbers entered for a and b to check which nuber is bigger \n",
    "a=int(input(\"enter value for a \"))\n",
    "b=int(input(\"enter value for b \"))\n",
    "if(a>b):\n",
    "    print('a is bigger than b')\n",
    "elif(b>a):\n",
    "    print('a is smaller than b')\n",
    "else:\n",
    "    print('both are equal')"
   ]
  },
  {
   "cell_type": "markdown",
   "id": "35f24daa-fd6e-4b89-9a59-3671a7da6114",
   "metadata": {},
   "source": [
    "# looping statements \n",
    "### counting numbers till n "
   ]
  },
  {
   "cell_type": "code",
   "execution_count": 13,
   "id": "c77e2a62-2913-4c4c-b8fe-509a390d02b6",
   "metadata": {},
   "outputs": [
    {
     "name": "stdin",
     "output_type": "stream",
     "text": [
      "enter the number 3\n"
     ]
    },
    {
     "name": "stdout",
     "output_type": "stream",
     "text": [
      "0\n",
      "1\n",
      "2\n",
      "3\n",
      "loop ended\n"
     ]
    }
   ],
   "source": [
    "# while loop to count till 100\n",
    "n=int(input(\"enter the number\"))\n",
    "count=0\n",
    "while count<=n:\n",
    "      print(count)\n",
    "      count+=1\n",
    "print('loop ended')"
   ]
  },
  {
   "cell_type": "markdown",
   "id": "356a92c5-ed56-40f1-8f36-97c2f8fce715",
   "metadata": {},
   "source": [
    "### code to print multiplication table of n number \n"
   ]
  },
  {
   "cell_type": "code",
   "execution_count": 12,
   "id": "85d01560-b27b-4dce-b8c9-a9a29a84d92d",
   "metadata": {},
   "outputs": [
    {
     "name": "stdin",
     "output_type": "stream",
     "text": [
      "enter the number to find the table of  15\n"
     ]
    },
    {
     "name": "stdout",
     "output_type": "stream",
     "text": [
      "0\n",
      "15\n",
      "30\n",
      "45\n",
      "60\n",
      "75\n",
      "90\n",
      "105\n",
      "120\n",
      "135\n",
      "150\n",
      "end of table \n"
     ]
    }
   ],
   "source": [
    "#code \n",
    "n=int(input(\"enter the number to find the table of \"))\n",
    "count=0\n",
    "while(count<=10):\n",
    "    print(count*n)\n",
    "    count+=1\n",
    "print('end of table ')\n",
    "\n",
    "#you can enter any values for n and find the table of n number "
   ]
  },
  {
   "cell_type": "markdown",
   "id": "c93adb50-4f9c-405e-8a01-ec1ef583cc96",
   "metadata": {},
   "source": [
    "### printing the elements present in the list "
   ]
  },
  {
   "cell_type": "code",
   "execution_count": 18,
   "id": "76544a35-8ae6-474d-af2a-b9ce5f65f9c1",
   "metadata": {},
   "outputs": [
    {
     "name": "stdout",
     "output_type": "stream",
     "text": [
      "1\n",
      "4\n",
      "9\n",
      "16\n",
      "25\n",
      "36\n",
      "49\n",
      "64\n",
      "81\n",
      "100\n"
     ]
    }
   ],
   "source": [
    "nums=[1,4,9,16,25,36,49,64,81,100]\n",
    "n=0\n",
    "while(n<10):\n",
    "    print(nums[n])\n",
    "    n+=1\n",
    "    "
   ]
  },
  {
   "cell_type": "markdown",
   "id": "26e21d50-423e-4e09-982e-825af3a10738",
   "metadata": {},
   "source": [
    "### Finding index of number in list"
   ]
  },
  {
   "cell_type": "markdown",
   "id": "07b42402-7913-436c-902a-8e776a03ffd9",
   "metadata": {},
   "source": [
    "### nums =[1,4,9,16,25,36,49,64,81,100] \n",
    "#### you need to enter the value for x means x can be any value present in the above list "
   ]
  },
  {
   "cell_type": "code",
   "execution_count": 24,
   "id": "b1f580c3-f329-4002-b951-d7fd321b2655",
   "metadata": {},
   "outputs": [
    {
     "name": "stdin",
     "output_type": "stream",
     "text": [
      "enter for x 49\n"
     ]
    },
    {
     "name": "stdout",
     "output_type": "stream",
     "text": [
      "searching**********\n",
      "searching**********\n",
      "searching**********\n",
      "searching**********\n",
      "searching**********\n",
      "searching**********\n",
      "number is found at index 6\n",
      "end of loop\n"
     ]
    }
   ],
   "source": [
    "nums=[1,4,9,16,25,36,49,64,81,100]\n",
    "x=int(input(\"enter for x\"))\n",
    "n=0\n",
    "while(n<10):\n",
    "      if nums[n]==x:\n",
    "          print(\"number is found at index\",n)\n",
    "          break\n",
    "      else:\n",
    "          print(\"searching**********\")\n",
    "          n+=1 \n",
    "print(\"end of loop\")\n",
    "\n",
    "## note here the x is the number present in the list "
   ]
  },
  {
   "cell_type": "markdown",
   "id": "ebaeed05-de42-4871-a584-e6d7531c2557",
   "metadata": {},
   "source": [
    "## for loop programs example"
   ]
  },
  {
   "cell_type": "code",
   "execution_count": 25,
   "id": "5a9f2f33-f2e8-44af-be19-b8a0da7419dc",
   "metadata": {},
   "outputs": [
    {
     "name": "stdout",
     "output_type": "stream",
     "text": [
      "1\n",
      "2\n",
      "3\n",
      "4\n",
      "5\n",
      "6\n",
      "7\n",
      "8\n",
      "9\n"
     ]
    }
   ],
   "source": [
    "muns=(1,2,3,4,5,6,7,8,9)\n",
    "for elements in muns:\n",
    "    print(elements)"
   ]
  },
  {
   "cell_type": "code",
   "execution_count": 28,
   "id": "6348baa1-a45f-45e2-8a23-3d427bef8968",
   "metadata": {},
   "outputs": [
    {
     "name": "stdout",
     "output_type": "stream",
     "text": [
      "2\n",
      "4\n",
      "6\n",
      "8\n",
      "10\n",
      "12\n",
      "14\n",
      "16\n",
      "18\n"
     ]
    }
   ],
   "source": [
    "muns=(1,2,3,4,5,6,7,8,9)\n",
    "for elements in muns:\n",
    "    print(2*elements)"
   ]
  },
  {
   "cell_type": "code",
   "execution_count": null,
   "id": "0c7634f3-7e17-46a9-89f2-3888a34224c6",
   "metadata": {},
   "outputs": [],
   "source": []
  }
 ],
 "metadata": {
  "kernelspec": {
   "display_name": "Python 3 (ipykernel)",
   "language": "python",
   "name": "python3"
  },
  "language_info": {
   "codemirror_mode": {
    "name": "ipython",
    "version": 3
   },
   "file_extension": ".py",
   "mimetype": "text/x-python",
   "name": "python",
   "nbconvert_exporter": "python",
   "pygments_lexer": "ipython3",
   "version": "3.12.4"
  },
  "widgets": {
   "application/vnd.jupyter.widget-state+json": {
    "state": {},
    "version_major": 2,
    "version_minor": 0
   }
  }
 },
 "nbformat": 4,
 "nbformat_minor": 5
}
